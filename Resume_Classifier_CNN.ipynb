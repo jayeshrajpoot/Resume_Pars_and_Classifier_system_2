{
 "cells": [
  {
   "cell_type": "code",
   "execution_count": 1,
   "id": "84d739c0",
   "metadata": {},
   "outputs": [],
   "source": [
    "import pandas as pd\n",
    "df = pd.read_csv(\"finale.csv\", index_col=0)"
   ]
  },
  {
   "cell_type": "code",
   "execution_count": 2,
   "id": "fc6d9077",
   "metadata": {},
   "outputs": [],
   "source": [
    "from tensorflow.keras.preprocessing.text import Tokenizer\n",
    "from tensorflow.keras.preprocessing.sequence import pad_sequences"
   ]
  },
  {
   "cell_type": "code",
   "execution_count": 3,
   "id": "a3e69c55",
   "metadata": {},
   "outputs": [
    {
     "data": {
      "text/plain": [
       "Index(['Software_Developer', 'Database_Administrator', 'Systems_Administrator',\n",
       "       'Project_manager', 'Web_Developer', 'Network_Administrator',\n",
       "       'Security_Analyst', 'Python_Developer', 'Java_Developer',\n",
       "       'Front_End_Developer', 'Ents', 'new'],\n",
       "      dtype='object')"
      ]
     },
     "execution_count": 3,
     "metadata": {},
     "output_type": "execute_result"
    }
   ],
   "source": [
    "df.columns"
   ]
  },
  {
   "cell_type": "code",
   "execution_count": 4,
   "id": "64ebfdea",
   "metadata": {},
   "outputs": [],
   "source": [
    "classes = ['Software_Developer', 'Database_Administrator',\n",
    "           'Systems_Administrator', 'Project_manager',\n",
    "           'Web_Developer', 'Network_Administrator',\n",
    "           'Security_Analyst', 'Python_Developer',\n",
    "           'Java_Developer', 'Front_End_Developer']"
   ]
  },
  {
   "cell_type": "code",
   "execution_count": 5,
   "id": "052509d2",
   "metadata": {},
   "outputs": [
    {
     "name": "stdout",
     "output_type": "stream",
     "text": [
      "<class 'pandas.core.frame.DataFrame'>\n",
      "Int64Index: 29783 entries, 0 to 29782\n",
      "Data columns (total 12 columns):\n",
      " #   Column                  Non-Null Count  Dtype \n",
      "---  ------                  --------------  ----- \n",
      " 0   Software_Developer      29783 non-null  int64 \n",
      " 1   Database_Administrator  29783 non-null  int64 \n",
      " 2   Systems_Administrator   29783 non-null  int64 \n",
      " 3   Project_manager         29783 non-null  int64 \n",
      " 4   Web_Developer           29783 non-null  int64 \n",
      " 5   Network_Administrator   29783 non-null  int64 \n",
      " 6   Security_Analyst        29783 non-null  int64 \n",
      " 7   Python_Developer        29783 non-null  int64 \n",
      " 8   Java_Developer          29783 non-null  int64 \n",
      " 9   Front_End_Developer     29783 non-null  int64 \n",
      " 10  Ents                    29783 non-null  object\n",
      " 11  new                     29721 non-null  object\n",
      "dtypes: int64(10), object(2)\n",
      "memory usage: 3.0+ MB\n"
     ]
    }
   ],
   "source": [
    "df.info()"
   ]
  },
  {
   "cell_type": "code",
   "execution_count": 6,
   "id": "abfc5094",
   "metadata": {},
   "outputs": [
    {
     "data": {
      "text/plain": [
       "(29783, 12)"
      ]
     },
     "execution_count": 6,
     "metadata": {},
     "output_type": "execute_result"
    }
   ],
   "source": [
    "df.shape"
   ]
  },
  {
   "cell_type": "code",
   "execution_count": 7,
   "id": "731920c5",
   "metadata": {},
   "outputs": [
    {
     "data": {
      "text/plain": [
       "0        sql ssis oltp backing generating log shipping ...\n",
       "1        microsoft xp microsoft assembly language micro...\n",
       "2        carrier objective experienced creating users r...\n",
       "3        amazon redshift administrator redshift adminis...\n",
       "4        scrum masterscrum master scrum master scrum ma...\n",
       "                               ...                        \n",
       "29778    servicenow developerservicenow developerservic...\n",
       "29779    developerandroid developerjoomla cms samsung w...\n",
       "29780    ui web developervisual web applications develo...\n",
       "29781                                                  php\n",
       "29782    sr software web developerweb developerweb deve...\n",
       "Name: new, Length: 29783, dtype: object"
      ]
     },
     "execution_count": 7,
     "metadata": {},
     "output_type": "execute_result"
    }
   ],
   "source": [
    "df['new']"
   ]
  },
  {
   "cell_type": "code",
   "execution_count": 8,
   "id": "288dfaa6",
   "metadata": {},
   "outputs": [],
   "source": [
    "for i in range(0,29783):\n",
    "  if type(df['new'][i]) ==\"float\":\n",
    "    print(\"found\")"
   ]
  },
  {
   "cell_type": "code",
   "execution_count": 9,
   "id": "d5b4814f",
   "metadata": {},
   "outputs": [],
   "source": [
    "tokenizer = Tokenizer(num_words=1000, lower=True)\n",
    "tokenizer.fit_on_texts(str(i) for i in df['new'])"
   ]
  },
  {
   "cell_type": "code",
   "execution_count": 10,
   "id": "488df771",
   "metadata": {},
   "outputs": [
    {
     "data": {
      "text/plain": [
       "<keras.preprocessing.text.Tokenizer at 0x1ad3dd35f40>"
      ]
     },
     "execution_count": 10,
     "metadata": {},
     "output_type": "execute_result"
    }
   ],
   "source": [
    "tokenizer"
   ]
  },
  {
   "cell_type": "code",
   "execution_count": 11,
   "id": "32a888ac",
   "metadata": {},
   "outputs": [],
   "source": [
    "sequences = tokenizer.texts_to_sequences(str(i) for i in df['new'])\n",
    "x = pad_sequences(sequences, maxlen=256)"
   ]
  },
  {
   "cell_type": "code",
   "execution_count": 12,
   "id": "2981565b",
   "metadata": {},
   "outputs": [
    {
     "data": {
      "text/html": [
       "<div>\n",
       "<style scoped>\n",
       "    .dataframe tbody tr th:only-of-type {\n",
       "        vertical-align: middle;\n",
       "    }\n",
       "\n",
       "    .dataframe tbody tr th {\n",
       "        vertical-align: top;\n",
       "    }\n",
       "\n",
       "    .dataframe thead th {\n",
       "        text-align: right;\n",
       "    }\n",
       "</style>\n",
       "<table border=\"1\" class=\"dataframe\">\n",
       "  <thead>\n",
       "    <tr style=\"text-align: right;\">\n",
       "      <th></th>\n",
       "      <th>Software_Developer</th>\n",
       "      <th>Database_Administrator</th>\n",
       "      <th>Systems_Administrator</th>\n",
       "      <th>Project_manager</th>\n",
       "      <th>Web_Developer</th>\n",
       "      <th>Network_Administrator</th>\n",
       "      <th>Security_Analyst</th>\n",
       "      <th>Python_Developer</th>\n",
       "      <th>Java_Developer</th>\n",
       "      <th>Front_End_Developer</th>\n",
       "      <th>Ents</th>\n",
       "      <th>new</th>\n",
       "    </tr>\n",
       "  </thead>\n",
       "  <tbody>\n",
       "    <tr>\n",
       "      <th>0</th>\n",
       "      <td>0</td>\n",
       "      <td>1</td>\n",
       "      <td>0</td>\n",
       "      <td>0</td>\n",
       "      <td>0</td>\n",
       "      <td>0</td>\n",
       "      <td>0</td>\n",
       "      <td>0</td>\n",
       "      <td>0</td>\n",
       "      <td>0</td>\n",
       "      <td>[SQL, SSIS, OLTP, Backing, Generating, Log Shi...</td>\n",
       "      <td>sql ssis oltp backing generating log shipping ...</td>\n",
       "    </tr>\n",
       "    <tr>\n",
       "      <th>1</th>\n",
       "      <td>0</td>\n",
       "      <td>1</td>\n",
       "      <td>0</td>\n",
       "      <td>0</td>\n",
       "      <td>0</td>\n",
       "      <td>0</td>\n",
       "      <td>0</td>\n",
       "      <td>0</td>\n",
       "      <td>0</td>\n",
       "      <td>0</td>\n",
       "      <td>[Microsoft, XP Microsoft, Assembly Language Mi...</td>\n",
       "      <td>microsoft xp microsoft assembly language micro...</td>\n",
       "    </tr>\n",
       "    <tr>\n",
       "      <th>2</th>\n",
       "      <td>0</td>\n",
       "      <td>1</td>\n",
       "      <td>0</td>\n",
       "      <td>0</td>\n",
       "      <td>0</td>\n",
       "      <td>0</td>\n",
       "      <td>0</td>\n",
       "      <td>0</td>\n",
       "      <td>0</td>\n",
       "      <td>0</td>\n",
       "      <td>[Carrier Objective, Experienced Creating Users...</td>\n",
       "      <td>carrier objective experienced creating users r...</td>\n",
       "    </tr>\n",
       "    <tr>\n",
       "      <th>3</th>\n",
       "      <td>0</td>\n",
       "      <td>1</td>\n",
       "      <td>0</td>\n",
       "      <td>0</td>\n",
       "      <td>0</td>\n",
       "      <td>0</td>\n",
       "      <td>0</td>\n",
       "      <td>0</td>\n",
       "      <td>0</td>\n",
       "      <td>0</td>\n",
       "      <td>[Amazon Redshift Administrator, yearsPostgresS...</td>\n",
       "      <td>amazon redshift administrator redshift adminis...</td>\n",
       "    </tr>\n",
       "    <tr>\n",
       "      <th>4</th>\n",
       "      <td>0</td>\n",
       "      <td>1</td>\n",
       "      <td>0</td>\n",
       "      <td>0</td>\n",
       "      <td>0</td>\n",
       "      <td>0</td>\n",
       "      <td>0</td>\n",
       "      <td>0</td>\n",
       "      <td>0</td>\n",
       "      <td>0</td>\n",
       "      <td>[Scrum Master, Scrum Master, October  April  R...</td>\n",
       "      <td>scrum masterscrum master scrum master scrum ma...</td>\n",
       "    </tr>\n",
       "    <tr>\n",
       "      <th>...</th>\n",
       "      <td>...</td>\n",
       "      <td>...</td>\n",
       "      <td>...</td>\n",
       "      <td>...</td>\n",
       "      <td>...</td>\n",
       "      <td>...</td>\n",
       "      <td>...</td>\n",
       "      <td>...</td>\n",
       "      <td>...</td>\n",
       "      <td>...</td>\n",
       "      <td>...</td>\n",
       "      <td>...</td>\n",
       "    </tr>\n",
       "    <tr>\n",
       "      <th>29778</th>\n",
       "      <td>1</td>\n",
       "      <td>0</td>\n",
       "      <td>0</td>\n",
       "      <td>0</td>\n",
       "      <td>1</td>\n",
       "      <td>0</td>\n",
       "      <td>0</td>\n",
       "      <td>0</td>\n",
       "      <td>1</td>\n",
       "      <td>0</td>\n",
       "      <td>[ServiceNow DeveloperServiceNow DeveloperServi...</td>\n",
       "      <td>servicenow developerservicenow developerservic...</td>\n",
       "    </tr>\n",
       "    <tr>\n",
       "      <th>29779</th>\n",
       "      <td>1</td>\n",
       "      <td>0</td>\n",
       "      <td>0</td>\n",
       "      <td>0</td>\n",
       "      <td>1</td>\n",
       "      <td>0</td>\n",
       "      <td>0</td>\n",
       "      <td>0</td>\n",
       "      <td>0</td>\n",
       "      <td>0</td>\n",
       "      <td>[DeveloperAndroid, DeveloperJoomla CMS, Samsun...</td>\n",
       "      <td>developerandroid developerjoomla cms samsung w...</td>\n",
       "    </tr>\n",
       "    <tr>\n",
       "      <th>29780</th>\n",
       "      <td>1</td>\n",
       "      <td>0</td>\n",
       "      <td>0</td>\n",
       "      <td>0</td>\n",
       "      <td>1</td>\n",
       "      <td>0</td>\n",
       "      <td>0</td>\n",
       "      <td>0</td>\n",
       "      <td>0</td>\n",
       "      <td>1</td>\n",
       "      <td>[UI, WEB, DeveloperVisual, Web Applications De...</td>\n",
       "      <td>ui web developervisual web applications develo...</td>\n",
       "    </tr>\n",
       "    <tr>\n",
       "      <th>29781</th>\n",
       "      <td>1</td>\n",
       "      <td>0</td>\n",
       "      <td>0</td>\n",
       "      <td>0</td>\n",
       "      <td>1</td>\n",
       "      <td>0</td>\n",
       "      <td>0</td>\n",
       "      <td>0</td>\n",
       "      <td>0</td>\n",
       "      <td>0</td>\n",
       "      <td>[September  July  , PHP]</td>\n",
       "      <td>php</td>\n",
       "    </tr>\n",
       "    <tr>\n",
       "      <th>29782</th>\n",
       "      <td>1</td>\n",
       "      <td>0</td>\n",
       "      <td>0</td>\n",
       "      <td>0</td>\n",
       "      <td>1</td>\n",
       "      <td>0</td>\n",
       "      <td>0</td>\n",
       "      <td>0</td>\n",
       "      <td>0</td>\n",
       "      <td>0</td>\n",
       "      <td>[Sr Software, Web DeveloperWeb DeveloperWeb De...</td>\n",
       "      <td>sr software web developerweb developerweb deve...</td>\n",
       "    </tr>\n",
       "  </tbody>\n",
       "</table>\n",
       "<p>29783 rows × 12 columns</p>\n",
       "</div>"
      ],
      "text/plain": [
       "       Software_Developer  Database_Administrator  Systems_Administrator  \\\n",
       "0                       0                       1                      0   \n",
       "1                       0                       1                      0   \n",
       "2                       0                       1                      0   \n",
       "3                       0                       1                      0   \n",
       "4                       0                       1                      0   \n",
       "...                   ...                     ...                    ...   \n",
       "29778                   1                       0                      0   \n",
       "29779                   1                       0                      0   \n",
       "29780                   1                       0                      0   \n",
       "29781                   1                       0                      0   \n",
       "29782                   1                       0                      0   \n",
       "\n",
       "       Project_manager  Web_Developer  Network_Administrator  \\\n",
       "0                    0              0                      0   \n",
       "1                    0              0                      0   \n",
       "2                    0              0                      0   \n",
       "3                    0              0                      0   \n",
       "4                    0              0                      0   \n",
       "...                ...            ...                    ...   \n",
       "29778                0              1                      0   \n",
       "29779                0              1                      0   \n",
       "29780                0              1                      0   \n",
       "29781                0              1                      0   \n",
       "29782                0              1                      0   \n",
       "\n",
       "       Security_Analyst  Python_Developer  Java_Developer  \\\n",
       "0                     0                 0               0   \n",
       "1                     0                 0               0   \n",
       "2                     0                 0               0   \n",
       "3                     0                 0               0   \n",
       "4                     0                 0               0   \n",
       "...                 ...               ...             ...   \n",
       "29778                 0                 0               1   \n",
       "29779                 0                 0               0   \n",
       "29780                 0                 0               0   \n",
       "29781                 0                 0               0   \n",
       "29782                 0                 0               0   \n",
       "\n",
       "       Front_End_Developer                                               Ents  \\\n",
       "0                        0  [SQL, SSIS, OLTP, Backing, Generating, Log Shi...   \n",
       "1                        0  [Microsoft, XP Microsoft, Assembly Language Mi...   \n",
       "2                        0  [Carrier Objective, Experienced Creating Users...   \n",
       "3                        0  [Amazon Redshift Administrator, yearsPostgresS...   \n",
       "4                        0  [Scrum Master, Scrum Master, October  April  R...   \n",
       "...                    ...                                                ...   \n",
       "29778                    0  [ServiceNow DeveloperServiceNow DeveloperServi...   \n",
       "29779                    0  [DeveloperAndroid, DeveloperJoomla CMS, Samsun...   \n",
       "29780                    1  [UI, WEB, DeveloperVisual, Web Applications De...   \n",
       "29781                    0                           [September  July  , PHP]   \n",
       "29782                    0  [Sr Software, Web DeveloperWeb DeveloperWeb De...   \n",
       "\n",
       "                                                     new  \n",
       "0      sql ssis oltp backing generating log shipping ...  \n",
       "1      microsoft xp microsoft assembly language micro...  \n",
       "2      carrier objective experienced creating users r...  \n",
       "3      amazon redshift administrator redshift adminis...  \n",
       "4      scrum masterscrum master scrum master scrum ma...  \n",
       "...                                                  ...  \n",
       "29778  servicenow developerservicenow developerservic...  \n",
       "29779  developerandroid developerjoomla cms samsung w...  \n",
       "29780  ui web developervisual web applications develo...  \n",
       "29781                                                php  \n",
       "29782  sr software web developerweb developerweb deve...  \n",
       "\n",
       "[29783 rows x 12 columns]"
      ]
     },
     "execution_count": 12,
     "metadata": {},
     "output_type": "execute_result"
    }
   ],
   "source": [
    "df"
   ]
  },
  {
   "cell_type": "code",
   "execution_count": 13,
   "id": "1d2e377c",
   "metadata": {},
   "outputs": [],
   "source": [
    "from sklearn.model_selection import train_test_split\n",
    "X_train, X_test, y_train, y_test = train_test_split(\n",
    "x, df[df.columns[:10]], test_size=0.2, random_state=42, shuffle=True)"
   ]
  },
  {
   "cell_type": "code",
   "execution_count": 14,
   "id": "f1dc097e",
   "metadata": {},
   "outputs": [],
   "source": [
    "from keras.models import Sequential\n",
    "from keras.layers import Dense, Embedding, GlobalMaxPool1D, Dropout,Conv1D\n",
    "from tensorflow.keras.optimizers import Adam\n",
    "from keras.regularizers import L2\n",
    "import tensorflow as tf"
   ]
  },
  {
   "cell_type": "code",
   "execution_count": null,
   "id": "d1b75b76",
   "metadata": {},
   "outputs": [],
   "source": [
    "filter_length = 300\n",
    "\n",
    "model = Sequential()\n",
    "model.add(Embedding(5000, 100, input_length=256))\n",
    "model.add(Dropout(0.25))\n",
    "model.add(Conv1D(filter_length, 3, padding='same', activation='relu', strides=1))\n",
    "model.add(GlobalMaxPool1D())\n",
    "model.add(Dense(500, activation = \"sigmoid\"))\n",
    "model.add(Dropout(0.25))\n",
    "model.add(Dense(200, activation = \"sigmoid\"))\n",
    "model.add(Dropout(0.25))\n",
    "model.add(Dense(100, activation = \"sigmoid\"))\n",
    "model.add(Dropout(0.25))\n",
    "model.add(Dense(10, activation = \"sigmoid\", kernel_regularizer=L2()))"
   ]
  },
  {
   "cell_type": "code",
   "execution_count": 16,
   "id": "a14d0315",
   "metadata": {},
   "outputs": [],
   "source": [
    "model.compile(optimizer='Adam',loss='binary_crossentropy', metrics=['Precision','Recall','AUC','Accuracy'])"
   ]
  },
  {
   "cell_type": "code",
   "execution_count": 17,
   "id": "3e8ff573",
   "metadata": {},
   "outputs": [],
   "source": [
    "from keras.utils.vis_utils import plot_model"
   ]
  },
  {
   "cell_type": "code",
   "execution_count": 18,
   "id": "9ada1687",
   "metadata": {},
   "outputs": [
    {
     "name": "stdout",
     "output_type": "stream",
     "text": [
      "You must install pydot (`pip install pydot`) and install graphviz (see instructions at https://graphviz.gitlab.io/download/) for plot_model to work.\n"
     ]
    }
   ],
   "source": [
    "plot_model(model, to_file='model_plot.png', show_shapes=True, show_layer_names=True)"
   ]
  },
  {
   "cell_type": "code",
   "execution_count": 19,
   "id": "bb0916d4",
   "metadata": {},
   "outputs": [],
   "source": [
    "import numpy as np"
   ]
  },
  {
   "cell_type": "code",
   "execution_count": 20,
   "id": "562960a0",
   "metadata": {},
   "outputs": [],
   "source": [
    "y =y_train.values.astype(np.float32)"
   ]
  },
  {
   "cell_type": "code",
   "execution_count": 21,
   "id": "1a6025b5",
   "metadata": {},
   "outputs": [
    {
     "name": "stdout",
     "output_type": "stream",
     "text": [
      "Epoch 1/100\n",
      "745/745 [==============================] - 106s 13ms/step - loss: 0.4142 - precision: 0.7678 - recall: 0.2497 - auc: 0.8109 - Accuracy: 0.5954\n",
      "Epoch 2/100\n",
      "745/745 [==============================] - 7s 9ms/step - loss: 0.3245 - precision: 0.8217 - recall: 0.3335 - auc: 0.8854 - Accuracy: 0.6781\n",
      "Epoch 3/100\n",
      "745/745 [==============================] - 7s 9ms/step - loss: 0.3098 - precision: 0.8054 - recall: 0.3978 - auc: 0.9039 - Accuracy: 0.7041\n",
      "Epoch 4/100\n",
      "745/745 [==============================] - 7s 10ms/step - loss: 0.2969 - precision: 0.8171 - recall: 0.4691 - auc: 0.9206 - Accuracy: 0.7120\n",
      "Epoch 5/100\n",
      "745/745 [==============================] - 7s 9ms/step - loss: 0.2903 - precision: 0.8260 - recall: 0.4771 - auc: 0.9279 - Accuracy: 0.7180\n",
      "Epoch 6/100\n",
      "745/745 [==============================] - 7s 9ms/step - loss: 0.2860 - precision: 0.8308 - recall: 0.4871 - auc: 0.9322 - Accuracy: 0.7278\n",
      "Epoch 7/100\n",
      "745/745 [==============================] - 7s 9ms/step - loss: 0.2827 - precision: 0.8383 - recall: 0.4943 - auc: 0.9353 - Accuracy: 0.7373\n",
      "Epoch 8/100\n",
      "745/745 [==============================] - 7s 9ms/step - loss: 0.2799 - precision: 0.8428 - recall: 0.5025 - auc: 0.9376 - Accuracy: 0.7600\n",
      "Epoch 9/100\n",
      "745/745 [==============================] - 7s 9ms/step - loss: 0.2772 - precision: 0.8457 - recall: 0.5100 - auc: 0.9402 - Accuracy: 0.7858\n",
      "Epoch 10/100\n",
      "745/745 [==============================] - 7s 9ms/step - loss: 0.2753 - precision: 0.8474 - recall: 0.5122 - auc: 0.9416 - Accuracy: 0.7948\n",
      "Epoch 11/100\n",
      "745/745 [==============================] - 7s 9ms/step - loss: 0.2732 - precision: 0.8514 - recall: 0.5160 - auc: 0.9433 - Accuracy: 0.8023\n",
      "Epoch 12/100\n",
      "745/745 [==============================] - 7s 9ms/step - loss: 0.2714 - precision: 0.8522 - recall: 0.5190 - auc: 0.9450 - Accuracy: 0.8098\n",
      "Epoch 13/100\n",
      "745/745 [==============================] - 7s 9ms/step - loss: 0.2695 - precision: 0.8536 - recall: 0.5222 - auc: 0.9466 - Accuracy: 0.8137\n",
      "Epoch 14/100\n",
      "745/745 [==============================] - 7s 9ms/step - loss: 0.2686 - precision: 0.8526 - recall: 0.5256 - auc: 0.9476 - Accuracy: 0.8148\n",
      "Epoch 15/100\n",
      "745/745 [==============================] - 7s 9ms/step - loss: 0.2668 - precision: 0.8565 - recall: 0.5307 - auc: 0.9489 - Accuracy: 0.8209\n",
      "Epoch 16/100\n",
      "745/745 [==============================] - 7s 9ms/step - loss: 0.2651 - precision: 0.8606 - recall: 0.5375 - auc: 0.9500 - Accuracy: 0.8232\n",
      "Epoch 17/100\n",
      "745/745 [==============================] - 7s 9ms/step - loss: 0.2639 - precision: 0.8590 - recall: 0.5405 - auc: 0.9511 - Accuracy: 0.8271\n",
      "Epoch 18/100\n",
      "745/745 [==============================] - 7s 9ms/step - loss: 0.2628 - precision: 0.8583 - recall: 0.5445 - auc: 0.9518 - Accuracy: 0.8274\n",
      "Epoch 19/100\n",
      "745/745 [==============================] - 7s 9ms/step - loss: 0.2596 - precision: 0.8636 - recall: 0.5569 - auc: 0.9536 - Accuracy: 0.8350\n",
      "Epoch 20/100\n",
      "745/745 [==============================] - 7s 9ms/step - loss: 0.2566 - precision: 0.8664 - recall: 0.5782 - auc: 0.9554 - Accuracy: 0.8372\n",
      "Epoch 21/100\n",
      "745/745 [==============================] - 7s 9ms/step - loss: 0.2544 - precision: 0.8684 - recall: 0.5910 - auc: 0.9565 - Accuracy: 0.8404\n",
      "Epoch 22/100\n",
      "745/745 [==============================] - 7s 9ms/step - loss: 0.2525 - precision: 0.8728 - recall: 0.6036 - auc: 0.9577 - Accuracy: 0.8400\n",
      "Epoch 23/100\n",
      "745/745 [==============================] - 7s 9ms/step - loss: 0.2502 - precision: 0.8782 - recall: 0.6145 - auc: 0.9592 - Accuracy: 0.8429\n",
      "Epoch 24/100\n",
      "745/745 [==============================] - 7s 9ms/step - loss: 0.2499 - precision: 0.8750 - recall: 0.6142 - auc: 0.9591 - Accuracy: 0.8416\n",
      "Epoch 25/100\n",
      "745/745 [==============================] - 7s 9ms/step - loss: 0.2492 - precision: 0.8751 - recall: 0.6201 - auc: 0.9596 - Accuracy: 0.8440\n",
      "Epoch 26/100\n",
      "745/745 [==============================] - 7s 9ms/step - loss: 0.2481 - precision: 0.8753 - recall: 0.6222 - auc: 0.9603 - Accuracy: 0.8450\n",
      "Epoch 27/100\n",
      "745/745 [==============================] - 7s 9ms/step - loss: 0.2478 - precision: 0.8770 - recall: 0.6225 - auc: 0.9607 - Accuracy: 0.8457\n",
      "Epoch 28/100\n",
      "745/745 [==============================] - 7s 9ms/step - loss: 0.2474 - precision: 0.8761 - recall: 0.6249 - auc: 0.9612 - Accuracy: 0.8466\n",
      "Epoch 29/100\n",
      "745/745 [==============================] - 7s 9ms/step - loss: 0.2466 - precision: 0.8796 - recall: 0.6271 - auc: 0.9618 - Accuracy: 0.8475\n",
      "Epoch 30/100\n",
      "745/745 [==============================] - 7s 9ms/step - loss: 0.2456 - precision: 0.8808 - recall: 0.6291 - auc: 0.9627 - Accuracy: 0.8492\n",
      "Epoch 31/100\n",
      "745/745 [==============================] - 7s 9ms/step - loss: 0.2451 - precision: 0.8851 - recall: 0.6348 - auc: 0.9632 - Accuracy: 0.8477\n",
      "Epoch 32/100\n",
      "745/745 [==============================] - 7s 9ms/step - loss: 0.2446 - precision: 0.8851 - recall: 0.6378 - auc: 0.9634 - Accuracy: 0.8523\n",
      "Epoch 33/100\n",
      "745/745 [==============================] - 7s 9ms/step - loss: 0.2438 - precision: 0.8858 - recall: 0.6462 - auc: 0.9640 - Accuracy: 0.8502\n",
      "Epoch 34/100\n",
      "745/745 [==============================] - 6s 9ms/step - loss: 0.2435 - precision: 0.8879 - recall: 0.6479 - auc: 0.9641 - Accuracy: 0.8515\n",
      "Epoch 35/100\n",
      "745/745 [==============================] - 6s 9ms/step - loss: 0.2429 - precision: 0.8910 - recall: 0.6548 - auc: 0.9648 - Accuracy: 0.8541\n",
      "Epoch 36/100\n",
      "745/745 [==============================] - 7s 9ms/step - loss: 0.2426 - precision: 0.8898 - recall: 0.6526 - auc: 0.9650 - Accuracy: 0.8527\n",
      "Epoch 37/100\n",
      "745/745 [==============================] - 7s 9ms/step - loss: 0.2422 - precision: 0.8901 - recall: 0.6549 - auc: 0.9651 - Accuracy: 0.8531\n",
      "Epoch 38/100\n",
      "745/745 [==============================] - 7s 9ms/step - loss: 0.2417 - precision: 0.8919 - recall: 0.6557 - auc: 0.9656 - Accuracy: 0.8572\n",
      "Epoch 39/100\n",
      "745/745 [==============================] - 7s 9ms/step - loss: 0.2415 - precision: 0.8918 - recall: 0.6545 - auc: 0.9659 - Accuracy: 0.8535\n",
      "Epoch 40/100\n",
      "745/745 [==============================] - 7s 9ms/step - loss: 0.2409 - precision: 0.8941 - recall: 0.6537 - auc: 0.9665 - Accuracy: 0.8547\n",
      "Epoch 41/100\n",
      "745/745 [==============================] - 7s 9ms/step - loss: 0.2406 - precision: 0.8918 - recall: 0.6598 - auc: 0.9666 - Accuracy: 0.8557\n",
      "Epoch 42/100\n",
      "745/745 [==============================] - 7s 9ms/step - loss: 0.2406 - precision: 0.8940 - recall: 0.6581 - auc: 0.9668 - Accuracy: 0.8560\n",
      "Epoch 43/100\n",
      "745/745 [==============================] - 7s 9ms/step - loss: 0.2404 - precision: 0.8960 - recall: 0.6560 - auc: 0.9670 - Accuracy: 0.8539\n",
      "Epoch 44/100\n",
      "745/745 [==============================] - 7s 9ms/step - loss: 0.2398 - precision: 0.8998 - recall: 0.6565 - auc: 0.9676 - Accuracy: 0.8575\n",
      "Epoch 45/100\n",
      "745/745 [==============================] - 7s 9ms/step - loss: 0.2394 - precision: 0.8989 - recall: 0.6615 - auc: 0.9675 - Accuracy: 0.8551\n",
      "Epoch 46/100\n",
      "745/745 [==============================] - 7s 9ms/step - loss: 0.2390 - precision: 0.9002 - recall: 0.6652 - auc: 0.9677 - Accuracy: 0.8580\n",
      "Epoch 47/100\n",
      "745/745 [==============================] - 7s 9ms/step - loss: 0.2388 - precision: 0.9009 - recall: 0.6684 - auc: 0.9681 - Accuracy: 0.8571\n",
      "Epoch 48/100\n",
      "745/745 [==============================] - 7s 9ms/step - loss: 0.2383 - precision: 0.9046 - recall: 0.6691 - auc: 0.9684 - Accuracy: 0.8590\n",
      "Epoch 49/100\n",
      "745/745 [==============================] - 7s 9ms/step - loss: 0.2381 - precision: 0.9061 - recall: 0.6691 - auc: 0.9688 - Accuracy: 0.8600\n",
      "Epoch 50/100\n",
      "745/745 [==============================] - 7s 9ms/step - loss: 0.2381 - precision: 0.9045 - recall: 0.6668 - auc: 0.9689 - Accuracy: 0.8585\n",
      "Epoch 51/100\n",
      "745/745 [==============================] - 7s 9ms/step - loss: 0.2379 - precision: 0.9061 - recall: 0.6678 - auc: 0.9689 - Accuracy: 0.8600\n",
      "Epoch 52/100\n",
      "745/745 [==============================] - 7s 9ms/step - loss: 0.2379 - precision: 0.9093 - recall: 0.6653 - auc: 0.9692 - Accuracy: 0.8598\n",
      "Epoch 53/100\n",
      "745/745 [==============================] - 7s 9ms/step - loss: 0.2374 - precision: 0.9117 - recall: 0.6691 - auc: 0.9695 - Accuracy: 0.8597\n",
      "Epoch 54/100\n",
      "745/745 [==============================] - 7s 9ms/step - loss: 0.2370 - precision: 0.9121 - recall: 0.6706 - auc: 0.9699 - Accuracy: 0.8592\n",
      "Epoch 55/100\n",
      "745/745 [==============================] - 7s 9ms/step - loss: 0.2364 - precision: 0.9121 - recall: 0.6765 - auc: 0.9702 - Accuracy: 0.8591\n",
      "Epoch 56/100\n",
      "745/745 [==============================] - 7s 9ms/step - loss: 0.2367 - precision: 0.9106 - recall: 0.6751 - auc: 0.9700 - Accuracy: 0.8594\n",
      "Epoch 57/100\n",
      "745/745 [==============================] - 7s 9ms/step - loss: 0.2358 - precision: 0.9132 - recall: 0.6788 - auc: 0.9705 - Accuracy: 0.8624\n",
      "Epoch 58/100\n",
      "745/745 [==============================] - 7s 9ms/step - loss: 0.2361 - precision: 0.9127 - recall: 0.6794 - auc: 0.9704 - Accuracy: 0.8605\n",
      "Epoch 59/100\n",
      "745/745 [==============================] - 7s 9ms/step - loss: 0.2357 - precision: 0.9116 - recall: 0.6799 - auc: 0.9707 - Accuracy: 0.8633\n",
      "Epoch 60/100\n",
      "745/745 [==============================] - 7s 9ms/step - loss: 0.2351 - precision: 0.9131 - recall: 0.6817 - auc: 0.9711 - Accuracy: 0.8609\n",
      "Epoch 61/100\n",
      "745/745 [==============================] - 7s 9ms/step - loss: 0.2349 - precision: 0.9141 - recall: 0.6833 - auc: 0.9713 - Accuracy: 0.8615\n",
      "Epoch 62/100\n",
      "745/745 [==============================] - 7s 9ms/step - loss: 0.2348 - precision: 0.9174 - recall: 0.6834 - auc: 0.9712 - Accuracy: 0.8615\n",
      "Epoch 63/100\n",
      "745/745 [==============================] - 6s 9ms/step - loss: 0.2346 - precision: 0.9176 - recall: 0.6865 - auc: 0.9715 - Accuracy: 0.8605\n",
      "Epoch 64/100\n",
      "745/745 [==============================] - 7s 9ms/step - loss: 0.2340 - precision: 0.9184 - recall: 0.6871 - auc: 0.9717 - Accuracy: 0.8594\n",
      "Epoch 65/100\n",
      "745/745 [==============================] - 7s 9ms/step - loss: 0.2340 - precision: 0.9172 - recall: 0.6880 - auc: 0.9718 - Accuracy: 0.8594\n",
      "Epoch 66/100\n",
      "745/745 [==============================] - 7s 9ms/step - loss: 0.2335 - precision: 0.9194 - recall: 0.6918 - auc: 0.9721 - Accuracy: 0.8602\n",
      "Epoch 67/100\n",
      "745/745 [==============================] - 7s 9ms/step - loss: 0.2339 - precision: 0.9176 - recall: 0.6856 - auc: 0.9721 - Accuracy: 0.8607\n",
      "Epoch 68/100\n",
      "745/745 [==============================] - 7s 9ms/step - loss: 0.2330 - precision: 0.9185 - recall: 0.6895 - auc: 0.9723 - Accuracy: 0.8623\n",
      "Epoch 69/100\n",
      "745/745 [==============================] - 7s 9ms/step - loss: 0.2326 - precision: 0.9197 - recall: 0.6933 - auc: 0.9729 - Accuracy: 0.8631\n",
      "Epoch 70/100\n",
      "745/745 [==============================] - 7s 9ms/step - loss: 0.2324 - precision: 0.9212 - recall: 0.6977 - auc: 0.9726 - Accuracy: 0.8636\n",
      "Epoch 71/100\n",
      "745/745 [==============================] - 7s 9ms/step - loss: 0.2324 - precision: 0.9196 - recall: 0.6956 - auc: 0.9728 - Accuracy: 0.8621\n",
      "Epoch 72/100\n",
      "745/745 [==============================] - 7s 9ms/step - loss: 0.2317 - precision: 0.9194 - recall: 0.6989 - auc: 0.9731 - Accuracy: 0.8632\n",
      "Epoch 73/100\n",
      "745/745 [==============================] - 7s 9ms/step - loss: 0.2318 - precision: 0.9199 - recall: 0.7011 - auc: 0.9732 - Accuracy: 0.8628\n",
      "Epoch 74/100\n",
      "745/745 [==============================] - 7s 9ms/step - loss: 0.2312 - precision: 0.9214 - recall: 0.7046 - auc: 0.9734 - Accuracy: 0.8607\n",
      "Epoch 75/100\n",
      "745/745 [==============================] - 7s 9ms/step - loss: 0.2312 - precision: 0.9206 - recall: 0.7040 - auc: 0.9734 - Accuracy: 0.8616\n",
      "Epoch 76/100\n",
      "745/745 [==============================] - 7s 9ms/step - loss: 0.2308 - precision: 0.9199 - recall: 0.7056 - auc: 0.9739 - Accuracy: 0.8611\n",
      "Epoch 77/100\n",
      "745/745 [==============================] - 7s 9ms/step - loss: 0.2308 - precision: 0.9179 - recall: 0.7069 - auc: 0.9736 - Accuracy: 0.8596\n",
      "Epoch 78/100\n",
      "745/745 [==============================] - 7s 9ms/step - loss: 0.2308 - precision: 0.9201 - recall: 0.7059 - auc: 0.9736 - Accuracy: 0.8611\n",
      "Epoch 79/100\n",
      "745/745 [==============================] - 7s 9ms/step - loss: 0.2301 - precision: 0.9205 - recall: 0.7120 - auc: 0.9739 - Accuracy: 0.8612\n",
      "Epoch 80/100\n",
      "745/745 [==============================] - 7s 9ms/step - loss: 0.2296 - precision: 0.9211 - recall: 0.7143 - auc: 0.9744 - Accuracy: 0.8598\n",
      "Epoch 81/100\n",
      "745/745 [==============================] - 7s 9ms/step - loss: 0.2294 - precision: 0.9196 - recall: 0.7172 - auc: 0.9742 - Accuracy: 0.8624\n",
      "Epoch 82/100\n",
      "745/745 [==============================] - 7s 9ms/step - loss: 0.2296 - precision: 0.9210 - recall: 0.7159 - auc: 0.9745 - Accuracy: 0.8598\n",
      "Epoch 83/100\n",
      "745/745 [==============================] - 7s 9ms/step - loss: 0.2292 - precision: 0.9236 - recall: 0.7178 - auc: 0.9744 - Accuracy: 0.8599\n",
      "Epoch 84/100\n",
      "745/745 [==============================] - 7s 10ms/step - loss: 0.2296 - precision: 0.9214 - recall: 0.7144 - auc: 0.9742 - Accuracy: 0.8596\n",
      "Epoch 85/100\n",
      "745/745 [==============================] - 7s 9ms/step - loss: 0.2291 - precision: 0.9210 - recall: 0.7173 - auc: 0.9746 - Accuracy: 0.8603\n",
      "Epoch 86/100\n",
      "745/745 [==============================] - 7s 9ms/step - loss: 0.2289 - precision: 0.9223 - recall: 0.7216 - auc: 0.9745 - Accuracy: 0.8613\n",
      "Epoch 87/100\n",
      "745/745 [==============================] - 7s 9ms/step - loss: 0.2286 - precision: 0.9230 - recall: 0.7205 - auc: 0.9749 - Accuracy: 0.8612\n",
      "Epoch 88/100\n",
      "745/745 [==============================] - 7s 9ms/step - loss: 0.2285 - precision: 0.9236 - recall: 0.7212 - auc: 0.9750 - Accuracy: 0.8607\n",
      "Epoch 89/100\n",
      "745/745 [==============================] - 7s 9ms/step - loss: 0.2281 - precision: 0.9222 - recall: 0.7260 - auc: 0.9750 - Accuracy: 0.8634\n",
      "Epoch 90/100\n",
      "745/745 [==============================] - 7s 9ms/step - loss: 0.2282 - precision: 0.9232 - recall: 0.7241 - auc: 0.9752 - Accuracy: 0.8596\n",
      "Epoch 91/100\n",
      "745/745 [==============================] - 7s 9ms/step - loss: 0.2283 - precision: 0.9234 - recall: 0.7238 - auc: 0.9752 - Accuracy: 0.8609\n",
      "Epoch 92/100\n",
      "745/745 [==============================] - 7s 9ms/step - loss: 0.2279 - precision: 0.9235 - recall: 0.7242 - auc: 0.9755 - Accuracy: 0.8602\n",
      "Epoch 93/100\n",
      "745/745 [==============================] - 7s 9ms/step - loss: 0.2277 - precision: 0.9246 - recall: 0.7255 - auc: 0.9756 - Accuracy: 0.8616\n",
      "Epoch 94/100\n",
      "745/745 [==============================] - 7s 9ms/step - loss: 0.2278 - precision: 0.9239 - recall: 0.7230 - auc: 0.9754 - Accuracy: 0.8630\n",
      "Epoch 95/100\n",
      "745/745 [==============================] - 7s 10ms/step - loss: 0.2275 - precision: 0.9232 - recall: 0.7250 - auc: 0.9757 - Accuracy: 0.8605\n",
      "Epoch 96/100\n",
      "745/745 [==============================] - 7s 10ms/step - loss: 0.2277 - precision: 0.9231 - recall: 0.7241 - auc: 0.9758 - Accuracy: 0.8619\n",
      "Epoch 97/100\n",
      "745/745 [==============================] - 7s 10ms/step - loss: 0.2274 - precision: 0.9242 - recall: 0.7267 - auc: 0.9755 - Accuracy: 0.8632\n",
      "Epoch 98/100\n",
      "745/745 [==============================] - 7s 10ms/step - loss: 0.2270 - precision: 0.9248 - recall: 0.7286 - auc: 0.9760 - Accuracy: 0.8642\n",
      "Epoch 99/100\n",
      "745/745 [==============================] - 7s 9ms/step - loss: 0.2270 - precision: 0.9244 - recall: 0.7280 - auc: 0.9759 - Accuracy: 0.8615\n",
      "Epoch 100/100\n",
      "745/745 [==============================] - 7s 10ms/step - loss: 0.2273 - precision: 0.9246 - recall: 0.7270 - auc: 0.9760 - Accuracy: 0.8595\n"
     ]
    }
   ],
   "source": [
    "history=model.fit(X_train,y,epochs=100)"
   ]
  },
  {
   "cell_type": "code",
   "execution_count": 22,
   "id": "0b3dece4",
   "metadata": {},
   "outputs": [
    {
     "name": "stdout",
     "output_type": "stream",
     "text": [
      "187/187 [==============================] - 3s 6ms/step - loss: 0.2632 - precision: 0.8806 - recall: 0.6568 - auc: 0.9483 - Accuracy: 0.7979\n"
     ]
    },
    {
     "data": {
      "text/plain": [
       "[0.2632439136505127,\n",
       " 0.8806160092353821,\n",
       " 0.6567631959915161,\n",
       " 0.9482726454734802,\n",
       " 0.7978848218917847]"
      ]
     },
     "execution_count": 22,
     "metadata": {},
     "output_type": "execute_result"
    }
   ],
   "source": [
    "model.evaluate(X_test,y_test)"
   ]
  },
  {
   "cell_type": "code",
   "execution_count": 23,
   "id": "e666dcf0",
   "metadata": {},
   "outputs": [
    {
     "data": {
      "text/plain": [
       "<matplotlib.legend.Legend at 0x1ad34e14310>"
      ]
     },
     "execution_count": 23,
     "metadata": {},
     "output_type": "execute_result"
    },
    {
     "data": {
      "image/png": "[encoded data removed]",
      "text/plain": [
       "<Figure size 640x480 with 1 Axes>"
      ]
     },
     "metadata": {},
     "output_type": "display_data"
    }
   ],
   "source": [
    "import matplotlib.pyplot as plt\n",
    "plt.plot(history.history['precision'],label='Precision')\n",
    "plt.plot(history.history['recall'],label='Recall')\n",
    "plt.plot(history.history['Accuracy'],label='Accuracy')\n",
    "plt.plot(history.history['loss'],label='Loss')\n",
    "plt.plot(history.history['auc'],label='auc')\n",
    "plt.legend()"
   ]
  },
  {
   "cell_type": "code",
   "execution_count": 24,
   "id": "a29f67d4",
   "metadata": {},
   "outputs": [
    {
     "name": "stdout",
     "output_type": "stream",
     "text": [
      "187/187 [==============================] - 1s 3ms/step\n"
     ]
    },
    {
     "data": {
      "text/plain": [
       "array([[0.9620036 , 0.04602831, 0.03178898, ..., 0.10159935, 0.6104656 ,\n",
       "        0.09104191],\n",
       "       [0.8530046 , 0.27835268, 0.06190065, ..., 0.09549038, 0.10221159,\n",
       "        0.05138892],\n",
       "       [0.0752285 , 0.07057103, 0.49158412, ..., 0.0144538 , 0.02039647,\n",
       "        0.01624593],\n",
       "       ...,\n",
       "       [0.072965  , 0.0776696 , 0.47150707, ..., 0.01387043, 0.01927403,\n",
       "        0.01837968],\n",
       "       [0.08776868, 0.06057385, 0.1764653 , ..., 0.01282113, 0.01475976,\n",
       "        0.02971982],\n",
       "       [0.96578515, 0.02405095, 0.04421205, ..., 0.06749219, 0.09388206,\n",
       "        0.10019204]], dtype=float32)"
      ]
     },
     "execution_count": 24,
     "metadata": {},
     "output_type": "execute_result"
    }
   ],
   "source": [
    "y_pred=model.predict(X_test)\n",
    "y_pred"
   ]
  },
  {
   "cell_type": "code",
   "execution_count": 25,
   "id": "5ceddb76",
   "metadata": {},
   "outputs": [],
   "source": [
    "normalized = []\n",
    "for i in y_pred:\n",
    "    l = []\n",
    "    for j in i:\n",
    "        if j>=0.50:\n",
    "            l.append(1)\n",
    "        else:\n",
    "            l.append(0)\n",
    "    normalized.append(l)"
   ]
  },
  {
   "cell_type": "code",
   "execution_count": 26,
   "id": "3b7bfad1",
   "metadata": {},
   "outputs": [
    {
     "name": "stdout",
     "output_type": "stream",
     "text": [
      "                        precision    recall  f1-score   support\n",
      "\n",
      "    Software_Developer       0.96      0.93      0.94      2973\n",
      "Database_Administrator       0.92      0.64      0.75       621\n",
      " Systems_Administrator       0.70      0.62      0.66      1215\n",
      "       Project_manager       0.83      0.51      0.63       911\n",
      "         Web_Developer       0.79      0.77      0.78      1260\n",
      " Network_Administrator       0.00      0.00      0.00       937\n",
      "      Security_Analyst       0.00      0.00      0.00       605\n",
      "      Python_Developer       0.96      0.70      0.81       539\n",
      "        Java_Developer       0.92      0.76      0.83       680\n",
      "   Front_End_Developer       0.92      0.85      0.88       794\n",
      "\n",
      "             micro avg       0.88      0.66      0.75     10535\n",
      "             macro avg       0.70      0.58      0.63     10535\n",
      "          weighted avg       0.75      0.66      0.70     10535\n",
      "           samples avg       0.71      0.63      0.65     10535\n",
      "\n"
     ]
    },
    {
     "name": "stderr",
     "output_type": "stream",
     "text": [
      "D:\\Users\\Pushkar\\anaconda3\\envs\\major\\lib\\site-packages\\sklearn\\metrics\\_classification.py:1344: UndefinedMetricWarning: Precision and F-score are ill-defined and being set to 0.0 in labels with no predicted samples. Use `zero_division` parameter to control this behavior.\n",
      "  _warn_prf(average, modifier, msg_start, len(result))\n",
      "D:\\Users\\Pushkar\\anaconda3\\envs\\major\\lib\\site-packages\\sklearn\\metrics\\_classification.py:1344: UndefinedMetricWarning: Precision and F-score are ill-defined and being set to 0.0 in samples with no predicted labels. Use `zero_division` parameter to control this behavior.\n",
      "  _warn_prf(average, modifier, msg_start, len(result))\n",
      "D:\\Users\\Pushkar\\anaconda3\\envs\\major\\lib\\site-packages\\sklearn\\metrics\\_classification.py:1344: UndefinedMetricWarning: Recall and F-score are ill-defined and being set to 0.0 in samples with no true labels. Use `zero_division` parameter to control this behavior.\n",
      "  _warn_prf(average, modifier, msg_start, len(result))\n"
     ]
    }
   ],
   "source": [
    "from sklearn.metrics import confusion_matrix\n",
    "from sklearn import metrics\n",
    "print(metrics.classification_report(y_test, normalized,target_names= classes))"
   ]
  },
  {
   "cell_type": "code",
   "execution_count": 27,
   "id": "1782f55a",
   "metadata": {},
   "outputs": [],
   "source": [
    "model.save('Resume_Classifier_CNN.h5')"
   ]
  },
  {
   "cell_type": "code",
   "execution_count": null,
   "id": "46314829",
   "metadata": {},
   "outputs": [],
   "source": [
    "model = Sequential()\n",
    "model.add(Embedding(1000,16, input_length=256))\n",
    "model.add(GlobalMaxPool1D())\n",
    "model.add(Dense(256,activation='sigmoid'))\n",
    "model.add(Dropout(0.25))\n",
    "model.add(Dense(128,activation='sigmoid'))\n",
    "model.add(Dropout(0.25))\n",
    "model.add(Dense(64,activation='sigmoid'))\n",
    "model.add(Dropout(0.25))\n",
    "model.add(Dense(64,activation='sigmoid'))\n",
    "model.add(Dropout(0.25))\n",
    "model.add(Dense(10, activation='sigmoid'))"
   ]
  }
 ],
 "metadata": {
  "kernelspec": {
   "display_name": "Python 3.9 (tensorflow)",
   "language": "python",
   "name": "major"
  },
  "language_info": {
   "codemirror_mode": {
    "name": "ipython",
    "version": 3
   },
   "file_extension": ".py",
   "mimetype": "text/x-python",
   "name": "python",
   "nbconvert_exporter": "python",
   "pygments_lexer": "ipython3",
   "version": "3.9.16"
  }
 },
 "nbformat": 4,
 "nbformat_minor": 5
}
