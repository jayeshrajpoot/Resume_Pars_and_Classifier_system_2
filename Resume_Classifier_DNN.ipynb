{
 "cells": [
  {
   "cell_type": "code",
   "execution_count": 1,
   "id": "84d739c0",
   "metadata": {},
   "outputs": [],
   "source": [
    "import pandas as pd\n",
    "df = pd.read_csv(\"finale.csv\", index_col=0)"
   ]
  },
  {
   "cell_type": "code",
   "execution_count": 2,
   "id": "fc6d9077",
   "metadata": {},
   "outputs": [],
   "source": [
    "from tensorflow.keras.preprocessing.text import Tokenizer\n",
    "from tensorflow.keras.preprocessing.sequence import pad_sequences"
   ]
  },
  {
   "cell_type": "code",
   "execution_count": 3,
   "id": "a3e69c55",
   "metadata": {},
   "outputs": [
    {
     "data": {
      "text/plain": [
       "Index(['Software_Developer', 'Database_Administrator', 'Systems_Administrator',\n",
       "       'Project_manager', 'Web_Developer', 'Network_Administrator',\n",
       "       'Security_Analyst', 'Python_Developer', 'Java_Developer',\n",
       "       'Front_End_Developer', 'Ents', 'new'],\n",
       "      dtype='object')"
      ]
     },
     "execution_count": 3,
     "metadata": {},
     "output_type": "execute_result"
    }
   ],
   "source": [
    "df.columns"
   ]
  },
  {
   "cell_type": "code",
   "execution_count": 4,
   "id": "64ebfdea",
   "metadata": {},
   "outputs": [],
   "source": [
    "classes = ['Software_Developer', 'Database_Administrator',\n",
    "           'Systems_Administrator', 'Project_manager',\n",
    "           'Web_Developer', 'Network_Administrator',\n",
    "           'Security_Analyst', 'Python_Developer',\n",
    "           'Java_Developer', 'Front_End_Developer']"
   ]
  },
  {
   "cell_type": "code",
   "execution_count": 5,
   "id": "052509d2",
   "metadata": {},
   "outputs": [
    {
     "name": "stdout",
     "output_type": "stream",
     "text": [
      "<class 'pandas.core.frame.DataFrame'>\n",
      "Int64Index: 29783 entries, 0 to 29782\n",
      "Data columns (total 12 columns):\n",
      " #   Column                  Non-Null Count  Dtype \n",
      "---  ------                  --------------  ----- \n",
      " 0   Software_Developer      29783 non-null  int64 \n",
      " 1   Database_Administrator  29783 non-null  int64 \n",
      " 2   Systems_Administrator   29783 non-null  int64 \n",
      " 3   Project_manager         29783 non-null  int64 \n",
      " 4   Web_Developer           29783 non-null  int64 \n",
      " 5   Network_Administrator   29783 non-null  int64 \n",
      " 6   Security_Analyst        29783 non-null  int64 \n",
      " 7   Python_Developer        29783 non-null  int64 \n",
      " 8   Java_Developer          29783 non-null  int64 \n",
      " 9   Front_End_Developer     29783 non-null  int64 \n",
      " 10  Ents                    29783 non-null  object\n",
      " 11  new                     29721 non-null  object\n",
      "dtypes: int64(10), object(2)\n",
      "memory usage: 3.0+ MB\n"
     ]
    }
   ],
   "source": [
    "df.info()"
   ]
  },
  {
   "cell_type": "code",
   "execution_count": 6,
   "id": "abfc5094",
   "metadata": {},
   "outputs": [
    {
     "data": {
      "text/plain": [
       "(29783, 12)"
      ]
     },
     "execution_count": 6,
     "metadata": {},
     "output_type": "execute_result"
    }
   ],
   "source": [
    "df.shape"
   ]
  },
  {
   "cell_type": "code",
   "execution_count": 7,
   "id": "731920c5",
   "metadata": {},
   "outputs": [
    {
     "data": {
      "text/plain": [
       "0        sql ssis oltp backing generating log shipping ...\n",
       "1        microsoft xp microsoft assembly language micro...\n",
       "2        carrier objective experienced creating users r...\n",
       "3        amazon redshift administrator redshift adminis...\n",
       "4        scrum masterscrum master scrum master scrum ma...\n",
       "                               ...                        \n",
       "29778    servicenow developerservicenow developerservic...\n",
       "29779    developerandroid developerjoomla cms samsung w...\n",
       "29780    ui web developervisual web applications develo...\n",
       "29781                                                  php\n",
       "29782    sr software web developerweb developerweb deve...\n",
       "Name: new, Length: 29783, dtype: object"
      ]
     },
     "execution_count": 7,
     "metadata": {},
     "output_type": "execute_result"
    }
   ],
   "source": [
    "df['new']"
   ]
  },
  {
   "cell_type": "code",
   "execution_count": 8,
   "id": "288dfaa6",
   "metadata": {},
   "outputs": [],
   "source": [
    "for i in range(0,29783):\n",
    "  if type(df['new'][i]) ==\"float\":\n",
    "    print(\"found\")"
   ]
  },
  {
   "cell_type": "code",
   "execution_count": 9,
   "id": "d5b4814f",
   "metadata": {},
   "outputs": [],
   "source": [
    "tokenizer = Tokenizer(num_words=1000, lower=True)\n",
    "tokenizer.fit_on_texts(str(i) for i in df['new'])"
   ]
  },
  {
   "cell_type": "code",
   "execution_count": 10,
   "id": "488df771",
   "metadata": {},
   "outputs": [
    {
     "data": {
      "text/plain": [
       "<keras.preprocessing.text.Tokenizer at 0x283fa2b70a0>"
      ]
     },
     "execution_count": 10,
     "metadata": {},
     "output_type": "execute_result"
    }
   ],
   "source": [
    "tokenizer"
   ]
  },
  {
   "cell_type": "code",
   "execution_count": 11,
   "id": "32a888ac",
   "metadata": {},
   "outputs": [],
   "source": [
    "sequences = tokenizer.texts_to_sequences(str(i) for i in df['new'])\n",
    "x = pad_sequences(sequences, maxlen=256)"
   ]
  },
  {
   "cell_type": "code",
   "execution_count": 12,
   "id": "2981565b",
   "metadata": {},
   "outputs": [
    {
     "data": {
      "text/html": [
       "<div>\n",
       "<style scoped>\n",
       "    .dataframe tbody tr th:only-of-type {\n",
       "        vertical-align: middle;\n",
       "    }\n",
       "\n",
       "    .dataframe tbody tr th {\n",
       "        vertical-align: top;\n",
       "    }\n",
       "\n",
       "    .dataframe thead th {\n",
       "        text-align: right;\n",
       "    }\n",
       "</style>\n",
       "<table border=\"1\" class=\"dataframe\">\n",
       "  <thead>\n",
       "    <tr style=\"text-align: right;\">\n",
       "      <th></th>\n",
       "      <th>Software_Developer</th>\n",
       "      <th>Database_Administrator</th>\n",
       "      <th>Systems_Administrator</th>\n",
       "      <th>Project_manager</th>\n",
       "      <th>Web_Developer</th>\n",
       "      <th>Network_Administrator</th>\n",
       "      <th>Security_Analyst</th>\n",
       "      <th>Python_Developer</th>\n",
       "      <th>Java_Developer</th>\n",
       "      <th>Front_End_Developer</th>\n",
       "      <th>Ents</th>\n",
       "      <th>new</th>\n",
       "    </tr>\n",
       "  </thead>\n",
       "  <tbody>\n",
       "    <tr>\n",
       "      <th>0</th>\n",
       "      <td>0</td>\n",
       "      <td>1</td>\n",
       "      <td>0</td>\n",
       "      <td>0</td>\n",
       "      <td>0</td>\n",
       "      <td>0</td>\n",
       "      <td>0</td>\n",
       "      <td>0</td>\n",
       "      <td>0</td>\n",
       "      <td>0</td>\n",
       "      <td>[SQL, SSIS, OLTP, Backing, Generating, Log Shi...</td>\n",
       "      <td>sql ssis oltp backing generating log shipping ...</td>\n",
       "    </tr>\n",
       "    <tr>\n",
       "      <th>1</th>\n",
       "      <td>0</td>\n",
       "      <td>1</td>\n",
       "      <td>0</td>\n",
       "      <td>0</td>\n",
       "      <td>0</td>\n",
       "      <td>0</td>\n",
       "      <td>0</td>\n",
       "      <td>0</td>\n",
       "      <td>0</td>\n",
       "      <td>0</td>\n",
       "      <td>[Microsoft, XP Microsoft, Assembly Language Mi...</td>\n",
       "      <td>microsoft xp microsoft assembly language micro...</td>\n",
       "    </tr>\n",
       "    <tr>\n",
       "      <th>2</th>\n",
       "      <td>0</td>\n",
       "      <td>1</td>\n",
       "      <td>0</td>\n",
       "      <td>0</td>\n",
       "      <td>0</td>\n",
       "      <td>0</td>\n",
       "      <td>0</td>\n",
       "      <td>0</td>\n",
       "      <td>0</td>\n",
       "      <td>0</td>\n",
       "      <td>[Carrier Objective, Experienced Creating Users...</td>\n",
       "      <td>carrier objective experienced creating users r...</td>\n",
       "    </tr>\n",
       "    <tr>\n",
       "      <th>3</th>\n",
       "      <td>0</td>\n",
       "      <td>1</td>\n",
       "      <td>0</td>\n",
       "      <td>0</td>\n",
       "      <td>0</td>\n",
       "      <td>0</td>\n",
       "      <td>0</td>\n",
       "      <td>0</td>\n",
       "      <td>0</td>\n",
       "      <td>0</td>\n",
       "      <td>[Amazon Redshift Administrator, yearsPostgresS...</td>\n",
       "      <td>amazon redshift administrator redshift adminis...</td>\n",
       "    </tr>\n",
       "    <tr>\n",
       "      <th>4</th>\n",
       "      <td>0</td>\n",
       "      <td>1</td>\n",
       "      <td>0</td>\n",
       "      <td>0</td>\n",
       "      <td>0</td>\n",
       "      <td>0</td>\n",
       "      <td>0</td>\n",
       "      <td>0</td>\n",
       "      <td>0</td>\n",
       "      <td>0</td>\n",
       "      <td>[Scrum Master, Scrum Master, October  April  R...</td>\n",
       "      <td>scrum masterscrum master scrum master scrum ma...</td>\n",
       "    </tr>\n",
       "    <tr>\n",
       "      <th>...</th>\n",
       "      <td>...</td>\n",
       "      <td>...</td>\n",
       "      <td>...</td>\n",
       "      <td>...</td>\n",
       "      <td>...</td>\n",
       "      <td>...</td>\n",
       "      <td>...</td>\n",
       "      <td>...</td>\n",
       "      <td>...</td>\n",
       "      <td>...</td>\n",
       "      <td>...</td>\n",
       "      <td>...</td>\n",
       "    </tr>\n",
       "    <tr>\n",
       "      <th>29778</th>\n",
       "      <td>1</td>\n",
       "      <td>0</td>\n",
       "      <td>0</td>\n",
       "      <td>0</td>\n",
       "      <td>1</td>\n",
       "      <td>0</td>\n",
       "      <td>0</td>\n",
       "      <td>0</td>\n",
       "      <td>1</td>\n",
       "      <td>0</td>\n",
       "      <td>[ServiceNow DeveloperServiceNow DeveloperServi...</td>\n",
       "      <td>servicenow developerservicenow developerservic...</td>\n",
       "    </tr>\n",
       "    <tr>\n",
       "      <th>29779</th>\n",
       "      <td>1</td>\n",
       "      <td>0</td>\n",
       "      <td>0</td>\n",
       "      <td>0</td>\n",
       "      <td>1</td>\n",
       "      <td>0</td>\n",
       "      <td>0</td>\n",
       "      <td>0</td>\n",
       "      <td>0</td>\n",
       "      <td>0</td>\n",
       "      <td>[DeveloperAndroid, DeveloperJoomla CMS, Samsun...</td>\n",
       "      <td>developerandroid developerjoomla cms samsung w...</td>\n",
       "    </tr>\n",
       "    <tr>\n",
       "      <th>29780</th>\n",
       "      <td>1</td>\n",
       "      <td>0</td>\n",
       "      <td>0</td>\n",
       "      <td>0</td>\n",
       "      <td>1</td>\n",
       "      <td>0</td>\n",
       "      <td>0</td>\n",
       "      <td>0</td>\n",
       "      <td>0</td>\n",
       "      <td>1</td>\n",
       "      <td>[UI, WEB, DeveloperVisual, Web Applications De...</td>\n",
       "      <td>ui web developervisual web applications develo...</td>\n",
       "    </tr>\n",
       "    <tr>\n",
       "      <th>29781</th>\n",
       "      <td>1</td>\n",
       "      <td>0</td>\n",
       "      <td>0</td>\n",
       "      <td>0</td>\n",
       "      <td>1</td>\n",
       "      <td>0</td>\n",
       "      <td>0</td>\n",
       "      <td>0</td>\n",
       "      <td>0</td>\n",
       "      <td>0</td>\n",
       "      <td>[September  July  , PHP]</td>\n",
       "      <td>php</td>\n",
       "    </tr>\n",
       "    <tr>\n",
       "      <th>29782</th>\n",
       "      <td>1</td>\n",
       "      <td>0</td>\n",
       "      <td>0</td>\n",
       "      <td>0</td>\n",
       "      <td>1</td>\n",
       "      <td>0</td>\n",
       "      <td>0</td>\n",
       "      <td>0</td>\n",
       "      <td>0</td>\n",
       "      <td>0</td>\n",
       "      <td>[Sr Software, Web DeveloperWeb DeveloperWeb De...</td>\n",
       "      <td>sr software web developerweb developerweb deve...</td>\n",
       "    </tr>\n",
       "  </tbody>\n",
       "</table>\n",
       "<p>29783 rows × 12 columns</p>\n",
       "</div>"
      ],
      "text/plain": [
       "       Software_Developer  Database_Administrator  Systems_Administrator  \\\n",
       "0                       0                       1                      0   \n",
       "1                       0                       1                      0   \n",
       "2                       0                       1                      0   \n",
       "3                       0                       1                      0   \n",
       "4                       0                       1                      0   \n",
       "...                   ...                     ...                    ...   \n",
       "29778                   1                       0                      0   \n",
       "29779                   1                       0                      0   \n",
       "29780                   1                       0                      0   \n",
       "29781                   1                       0                      0   \n",
       "29782                   1                       0                      0   \n",
       "\n",
       "       Project_manager  Web_Developer  Network_Administrator  \\\n",
       "0                    0              0                      0   \n",
       "1                    0              0                      0   \n",
       "2                    0              0                      0   \n",
       "3                    0              0                      0   \n",
       "4                    0              0                      0   \n",
       "...                ...            ...                    ...   \n",
       "29778                0              1                      0   \n",
       "29779                0              1                      0   \n",
       "29780                0              1                      0   \n",
       "29781                0              1                      0   \n",
       "29782                0              1                      0   \n",
       "\n",
       "       Security_Analyst  Python_Developer  Java_Developer  \\\n",
       "0                     0                 0               0   \n",
       "1                     0                 0               0   \n",
       "2                     0                 0               0   \n",
       "3                     0                 0               0   \n",
       "4                     0                 0               0   \n",
       "...                 ...               ...             ...   \n",
       "29778                 0                 0               1   \n",
       "29779                 0                 0               0   \n",
       "29780                 0                 0               0   \n",
       "29781                 0                 0               0   \n",
       "29782                 0                 0               0   \n",
       "\n",
       "       Front_End_Developer                                               Ents  \\\n",
       "0                        0  [SQL, SSIS, OLTP, Backing, Generating, Log Shi...   \n",
       "1                        0  [Microsoft, XP Microsoft, Assembly Language Mi...   \n",
       "2                        0  [Carrier Objective, Experienced Creating Users...   \n",
       "3                        0  [Amazon Redshift Administrator, yearsPostgresS...   \n",
       "4                        0  [Scrum Master, Scrum Master, October  April  R...   \n",
       "...                    ...                                                ...   \n",
       "29778                    0  [ServiceNow DeveloperServiceNow DeveloperServi...   \n",
       "29779                    0  [DeveloperAndroid, DeveloperJoomla CMS, Samsun...   \n",
       "29780                    1  [UI, WEB, DeveloperVisual, Web Applications De...   \n",
       "29781                    0                           [September  July  , PHP]   \n",
       "29782                    0  [Sr Software, Web DeveloperWeb DeveloperWeb De...   \n",
       "\n",
       "                                                     new  \n",
       "0      sql ssis oltp backing generating log shipping ...  \n",
       "1      microsoft xp microsoft assembly language micro...  \n",
       "2      carrier objective experienced creating users r...  \n",
       "3      amazon redshift administrator redshift adminis...  \n",
       "4      scrum masterscrum master scrum master scrum ma...  \n",
       "...                                                  ...  \n",
       "29778  servicenow developerservicenow developerservic...  \n",
       "29779  developerandroid developerjoomla cms samsung w...  \n",
       "29780  ui web developervisual web applications develo...  \n",
       "29781                                                php  \n",
       "29782  sr software web developerweb developerweb deve...  \n",
       "\n",
       "[29783 rows x 12 columns]"
      ]
     },
     "execution_count": 12,
     "metadata": {},
     "output_type": "execute_result"
    }
   ],
   "source": [
    "df"
   ]
  },
  {
   "cell_type": "code",
   "execution_count": 13,
   "id": "1d2e377c",
   "metadata": {},
   "outputs": [],
   "source": [
    "from sklearn.model_selection import train_test_split\n",
    "X_train, X_test, y_train, y_test = train_test_split(\n",
    "x, df[df.columns[:10]], test_size=0.2, random_state=42, shuffle=True)"
   ]
  },
  {
   "cell_type": "code",
   "execution_count": 14,
   "id": "f1dc097e",
   "metadata": {},
   "outputs": [],
   "source": [
    "from keras.models import Sequential\n",
    "from keras.layers import Dense, Embedding, GlobalMaxPool1D, Dropout,Conv1D\n",
    "from tensorflow.keras.optimizers import Adam\n",
    "from keras.regularizers import L2\n",
    "import tensorflow as tf"
   ]
  },
  {
   "cell_type": "code",
   "execution_count": 15,
   "id": "239520a1",
   "metadata": {},
   "outputs": [],
   "source": [
    "model = Sequential()\n",
    "model.add(Embedding(1000,16, input_length=256))\n",
    "model.add(GlobalMaxPool1D())\n",
    "model.add(Dense(256,activation='sigmoid'))\n",
    "model.add(Dropout(0.25))\n",
    "model.add(Dense(128,activation='sigmoid'))\n",
    "model.add(Dropout(0.25))\n",
    "model.add(Dense(64,activation='sigmoid'))\n",
    "model.add(Dropout(0.25))\n",
    "model.add(Dense(64,activation='sigmoid'))\n",
    "model.add(Dropout(0.25))\n",
    "model.add(Dense(10, activation='sigmoid'))"
   ]
  },
  {
   "cell_type": "code",
   "execution_count": 16,
   "id": "a14d0315",
   "metadata": {},
   "outputs": [],
   "source": [
    "model.compile(optimizer='Adam',loss='binary_crossentropy', metrics=['Precision','Recall','AUC','Accuracy'])"
   ]
  },
  {
   "cell_type": "code",
   "execution_count": 17,
   "id": "3e8ff573",
   "metadata": {},
   "outputs": [],
   "source": [
    "from keras.utils.vis_utils import plot_model"
   ]
  },
  {
   "cell_type": "code",
   "execution_count": 18,
   "id": "9ada1687",
   "metadata": {},
   "outputs": [
    {
     "name": "stdout",
     "output_type": "stream",
     "text": [
      "You must install pydot (`pip install pydot`) and install graphviz (see instructions at https://graphviz.gitlab.io/download/) for plot_model to work.\n"
     ]
    }
   ],
   "source": [
    "plot_model(model, to_file='model_plot.png', show_shapes=True, show_layer_names=True)"
   ]
  },
  {
   "cell_type": "code",
   "execution_count": 19,
   "id": "bb0916d4",
   "metadata": {},
   "outputs": [],
   "source": [
    "import numpy as np"
   ]
  },
  {
   "cell_type": "code",
   "execution_count": 20,
   "id": "562960a0",
   "metadata": {},
   "outputs": [],
   "source": [
    "y =y_train.values.astype(np.float32)"
   ]
  },
  {
   "cell_type": "code",
   "execution_count": 21,
   "id": "1a6025b5",
   "metadata": {},
   "outputs": [
    {
     "name": "stdout",
     "output_type": "stream",
     "text": [
      "Epoch 1/100\n",
      "745/745 [==============================] - 98s 8ms/step - loss: 0.4081 - precision: 0.6057 - recall: 0.2056 - auc: 0.7241 - Accuracy: 0.5393\n",
      "Epoch 2/100\n",
      "745/745 [==============================] - 5s 6ms/step - loss: 0.3022 - precision: 0.7638 - recall: 0.3619 - auc: 0.8734 - Accuracy: 0.6394\n",
      "Epoch 3/100\n",
      "745/745 [==============================] - 5s 7ms/step - loss: 0.2883 - precision: 0.7534 - recall: 0.4053 - auc: 0.8889 - Accuracy: 0.6546\n",
      "Epoch 4/100\n",
      "745/745 [==============================] - 5s 7ms/step - loss: 0.2799 - precision: 0.7496 - recall: 0.4417 - auc: 0.8981 - Accuracy: 0.6659\n",
      "Epoch 5/100\n",
      "745/745 [==============================] - 5s 7ms/step - loss: 0.2740 - precision: 0.7669 - recall: 0.4650 - auc: 0.9035 - Accuracy: 0.6735\n",
      "Epoch 6/100\n",
      "745/745 [==============================] - 5s 7ms/step - loss: 0.2683 - precision: 0.7756 - recall: 0.4811 - auc: 0.9085 - Accuracy: 0.6827\n",
      "Epoch 7/100\n",
      "745/745 [==============================] - 5s 7ms/step - loss: 0.2630 - precision: 0.7791 - recall: 0.4956 - auc: 0.9131 - Accuracy: 0.6932\n",
      "Epoch 8/100\n",
      "745/745 [==============================] - 5s 6ms/step - loss: 0.2585 - precision: 0.7768 - recall: 0.5214 - auc: 0.9168 - Accuracy: 0.6966\n",
      "Epoch 9/100\n",
      "745/745 [==============================] - 5s 6ms/step - loss: 0.2522 - precision: 0.7837 - recall: 0.5507 - auc: 0.9211 - Accuracy: 0.7077\n",
      "Epoch 10/100\n",
      "745/745 [==============================] - 5s 7ms/step - loss: 0.2459 - precision: 0.7810 - recall: 0.5840 - auc: 0.9251 - Accuracy: 0.7269\n",
      "Epoch 11/100\n",
      "745/745 [==============================] - 5s 6ms/step - loss: 0.2394 - precision: 0.7877 - recall: 0.6046 - auc: 0.9290 - Accuracy: 0.7360\n",
      "Epoch 12/100\n",
      "745/745 [==============================] - 5s 6ms/step - loss: 0.2340 - precision: 0.7892 - recall: 0.6201 - auc: 0.9323 - Accuracy: 0.7460\n",
      "Epoch 13/100\n",
      "745/745 [==============================] - 5s 6ms/step - loss: 0.2301 - precision: 0.7919 - recall: 0.6313 - auc: 0.9344 - Accuracy: 0.7435\n",
      "Epoch 14/100\n",
      "745/745 [==============================] - 5s 6ms/step - loss: 0.2276 - precision: 0.7912 - recall: 0.6367 - auc: 0.9360 - Accuracy: 0.7410\n",
      "Epoch 15/100\n",
      "745/745 [==============================] - 5s 6ms/step - loss: 0.2249 - precision: 0.7927 - recall: 0.6454 - auc: 0.9375 - Accuracy: 0.7503\n",
      "Epoch 16/100\n",
      "745/745 [==============================] - 4s 6ms/step - loss: 0.2227 - precision: 0.7940 - recall: 0.6504 - auc: 0.9388 - Accuracy: 0.7493\n",
      "Epoch 17/100\n",
      "745/745 [==============================] - 4s 6ms/step - loss: 0.2213 - precision: 0.7956 - recall: 0.6550 - auc: 0.9396 - Accuracy: 0.7493\n",
      "Epoch 18/100\n",
      "745/745 [==============================] - 5s 7ms/step - loss: 0.2188 - precision: 0.7955 - recall: 0.6640 - auc: 0.9413 - Accuracy: 0.7479\n",
      "Epoch 19/100\n",
      "745/745 [==============================] - 5s 7ms/step - loss: 0.2174 - precision: 0.7939 - recall: 0.6697 - auc: 0.9421 - Accuracy: 0.7532\n",
      "Epoch 20/100\n",
      "745/745 [==============================] - 5s 7ms/step - loss: 0.2150 - precision: 0.7948 - recall: 0.6807 - auc: 0.9433 - Accuracy: 0.7568\n",
      "Epoch 21/100\n",
      "745/745 [==============================] - 5s 6ms/step - loss: 0.2127 - precision: 0.7966 - recall: 0.6889 - auc: 0.9447 - Accuracy: 0.7598\n",
      "Epoch 22/100\n",
      "745/745 [==============================] - 5s 7ms/step - loss: 0.2106 - precision: 0.8003 - recall: 0.6981 - auc: 0.9455 - Accuracy: 0.7643\n",
      "Epoch 23/100\n",
      "745/745 [==============================] - 5s 7ms/step - loss: 0.2095 - precision: 0.8017 - recall: 0.7005 - auc: 0.9460 - Accuracy: 0.7667\n",
      "Epoch 24/100\n",
      "745/745 [==============================] - 5s 7ms/step - loss: 0.2070 - precision: 0.8023 - recall: 0.7073 - auc: 0.9474 - Accuracy: 0.7680\n",
      "Epoch 25/100\n",
      "745/745 [==============================] - 5s 7ms/step - loss: 0.2058 - precision: 0.8060 - recall: 0.7074 - auc: 0.9480 - Accuracy: 0.7696\n",
      "Epoch 26/100\n",
      "745/745 [==============================] - 5s 6ms/step - loss: 0.2042 - precision: 0.8074 - recall: 0.7091 - auc: 0.9488 - Accuracy: 0.7679\n",
      "Epoch 27/100\n",
      "745/745 [==============================] - 4s 6ms/step - loss: 0.2031 - precision: 0.8094 - recall: 0.7124 - auc: 0.9493 - Accuracy: 0.7668\n",
      "Epoch 28/100\n",
      "745/745 [==============================] - 4s 6ms/step - loss: 0.2012 - precision: 0.8133 - recall: 0.7147 - auc: 0.9501 - Accuracy: 0.7744\n",
      "Epoch 29/100\n",
      "745/745 [==============================] - 4s 6ms/step - loss: 0.2001 - precision: 0.8163 - recall: 0.7173 - auc: 0.9505 - Accuracy: 0.7744\n",
      "Epoch 30/100\n",
      "745/745 [==============================] - 4s 6ms/step - loss: 0.1990 - precision: 0.8173 - recall: 0.7148 - auc: 0.9512 - Accuracy: 0.7731\n",
      "Epoch 31/100\n",
      "745/745 [==============================] - 5s 6ms/step - loss: 0.1984 - precision: 0.8198 - recall: 0.7153 - auc: 0.9513 - Accuracy: 0.7752\n",
      "Epoch 32/100\n",
      "745/745 [==============================] - 5s 7ms/step - loss: 0.1973 - precision: 0.8199 - recall: 0.7173 - auc: 0.9520 - Accuracy: 0.7788\n",
      "Epoch 33/100\n",
      "745/745 [==============================] - 5s 7ms/step - loss: 0.1965 - precision: 0.8231 - recall: 0.7183 - auc: 0.9524 - Accuracy: 0.7773\n",
      "Epoch 34/100\n",
      "745/745 [==============================] - 5s 7ms/step - loss: 0.1961 - precision: 0.8224 - recall: 0.7172 - auc: 0.9524 - Accuracy: 0.7797\n",
      "Epoch 35/100\n",
      "745/745 [==============================] - 5s 7ms/step - loss: 0.1945 - precision: 0.8256 - recall: 0.7208 - auc: 0.9535 - Accuracy: 0.7818\n",
      "Epoch 36/100\n",
      "745/745 [==============================] - 5s 7ms/step - loss: 0.1945 - precision: 0.8252 - recall: 0.7222 - auc: 0.9533 - Accuracy: 0.7835\n",
      "Epoch 37/100\n",
      "745/745 [==============================] - 5s 7ms/step - loss: 0.1938 - precision: 0.8254 - recall: 0.7223 - auc: 0.9535 - Accuracy: 0.7846\n",
      "Epoch 38/100\n",
      "745/745 [==============================] - 5s 7ms/step - loss: 0.1934 - precision: 0.8251 - recall: 0.7236 - auc: 0.9539 - Accuracy: 0.7862\n",
      "Epoch 39/100\n",
      "745/745 [==============================] - 5s 7ms/step - loss: 0.1922 - precision: 0.8301 - recall: 0.7234 - auc: 0.9544 - Accuracy: 0.7880\n",
      "Epoch 40/100\n",
      "745/745 [==============================] - 5s 7ms/step - loss: 0.1922 - precision: 0.8297 - recall: 0.7250 - auc: 0.9543 - Accuracy: 0.7897\n",
      "Epoch 41/100\n",
      "745/745 [==============================] - 5s 7ms/step - loss: 0.1914 - precision: 0.8306 - recall: 0.7286 - auc: 0.9546 - Accuracy: 0.7898\n",
      "Epoch 42/100\n",
      "745/745 [==============================] - 5s 6ms/step - loss: 0.1907 - precision: 0.8320 - recall: 0.7289 - auc: 0.9549 - Accuracy: 0.7898\n",
      "Epoch 43/100\n",
      "745/745 [==============================] - 5s 7ms/step - loss: 0.1903 - precision: 0.8322 - recall: 0.7274 - auc: 0.9551 - Accuracy: 0.7922\n",
      "Epoch 44/100\n",
      "745/745 [==============================] - 5s 6ms/step - loss: 0.1900 - precision: 0.8317 - recall: 0.7304 - auc: 0.9553 - Accuracy: 0.7943\n",
      "Epoch 45/100\n",
      "745/745 [==============================] - 5s 6ms/step - loss: 0.1890 - precision: 0.8326 - recall: 0.7288 - auc: 0.9560 - Accuracy: 0.7910\n",
      "Epoch 46/100\n",
      "745/745 [==============================] - 5s 6ms/step - loss: 0.1884 - precision: 0.8323 - recall: 0.7312 - auc: 0.9560 - Accuracy: 0.7953\n",
      "Epoch 47/100\n",
      "745/745 [==============================] - 5s 7ms/step - loss: 0.1884 - precision: 0.8324 - recall: 0.7295 - auc: 0.9562 - Accuracy: 0.7939\n",
      "Epoch 48/100\n",
      "745/745 [==============================] - 5s 7ms/step - loss: 0.1879 - precision: 0.8335 - recall: 0.7329 - auc: 0.9561 - Accuracy: 0.7972\n",
      "Epoch 49/100\n",
      "745/745 [==============================] - 5s 7ms/step - loss: 0.1875 - precision: 0.8350 - recall: 0.7329 - auc: 0.9564 - Accuracy: 0.7964\n",
      "Epoch 50/100\n",
      "745/745 [==============================] - 5s 7ms/step - loss: 0.1869 - precision: 0.8371 - recall: 0.7323 - auc: 0.9568 - Accuracy: 0.7993\n",
      "Epoch 51/100\n",
      "745/745 [==============================] - 5s 7ms/step - loss: 0.1854 - precision: 0.8360 - recall: 0.7370 - auc: 0.9575 - Accuracy: 0.8002\n",
      "Epoch 52/100\n",
      "745/745 [==============================] - 5s 7ms/step - loss: 0.1864 - precision: 0.8361 - recall: 0.7358 - auc: 0.9571 - Accuracy: 0.7982\n",
      "Epoch 53/100\n",
      "745/745 [==============================] - 5s 6ms/step - loss: 0.1854 - precision: 0.8369 - recall: 0.7364 - auc: 0.9573 - Accuracy: 0.7986\n",
      "Epoch 54/100\n"
     ]
    },
    {
     "name": "stdout",
     "output_type": "stream",
     "text": [
      "745/745 [==============================] - 5s 7ms/step - loss: 0.1850 - precision: 0.8366 - recall: 0.7378 - auc: 0.9577 - Accuracy: 0.7995\n",
      "Epoch 55/100\n",
      "745/745 [==============================] - 5s 7ms/step - loss: 0.1841 - precision: 0.8375 - recall: 0.7389 - auc: 0.9582 - Accuracy: 0.8032\n",
      "Epoch 56/100\n",
      "745/745 [==============================] - 5s 7ms/step - loss: 0.1848 - precision: 0.8383 - recall: 0.7419 - auc: 0.9576 - Accuracy: 0.8039\n",
      "Epoch 57/100\n",
      "745/745 [==============================] - 5s 7ms/step - loss: 0.1842 - precision: 0.8406 - recall: 0.7399 - auc: 0.9578 - Accuracy: 0.8027\n",
      "Epoch 58/100\n",
      "745/745 [==============================] - 5s 7ms/step - loss: 0.1833 - precision: 0.8407 - recall: 0.7420 - auc: 0.9583 - Accuracy: 0.8060\n",
      "Epoch 59/100\n",
      "745/745 [==============================] - 5s 6ms/step - loss: 0.1827 - precision: 0.8405 - recall: 0.7395 - auc: 0.9587 - Accuracy: 0.8051\n",
      "Epoch 60/100\n",
      "745/745 [==============================] - 5s 6ms/step - loss: 0.1832 - precision: 0.8384 - recall: 0.7409 - auc: 0.9585 - Accuracy: 0.8034\n",
      "Epoch 61/100\n",
      "745/745 [==============================] - 5s 7ms/step - loss: 0.1833 - precision: 0.8372 - recall: 0.7416 - auc: 0.9583 - Accuracy: 0.8049\n",
      "Epoch 62/100\n",
      "745/745 [==============================] - 5s 7ms/step - loss: 0.1824 - precision: 0.8411 - recall: 0.7417 - auc: 0.9589 - Accuracy: 0.8072\n",
      "Epoch 63/100\n",
      "745/745 [==============================] - 5s 7ms/step - loss: 0.1823 - precision: 0.8380 - recall: 0.7451 - auc: 0.9588 - Accuracy: 0.8037\n",
      "Epoch 64/100\n",
      "745/745 [==============================] - 5s 7ms/step - loss: 0.1819 - precision: 0.8398 - recall: 0.7438 - auc: 0.9590 - Accuracy: 0.8068\n",
      "Epoch 65/100\n",
      "745/745 [==============================] - 5s 6ms/step - loss: 0.1813 - precision: 0.8410 - recall: 0.7460 - auc: 0.9594 - Accuracy: 0.8060\n",
      "Epoch 66/100\n",
      "745/745 [==============================] - 5s 6ms/step - loss: 0.1814 - precision: 0.8403 - recall: 0.7436 - auc: 0.9592 - Accuracy: 0.8075\n",
      "Epoch 67/100\n",
      "745/745 [==============================] - 5s 6ms/step - loss: 0.1810 - precision: 0.8417 - recall: 0.7444 - auc: 0.9595 - Accuracy: 0.8078\n",
      "Epoch 68/100\n",
      "745/745 [==============================] - 5s 6ms/step - loss: 0.1806 - precision: 0.8431 - recall: 0.7442 - auc: 0.9596 - Accuracy: 0.8095\n",
      "Epoch 69/100\n",
      "745/745 [==============================] - 5s 6ms/step - loss: 0.1804 - precision: 0.8435 - recall: 0.7446 - auc: 0.9595 - Accuracy: 0.8078\n",
      "Epoch 70/100\n",
      "745/745 [==============================] - 5s 7ms/step - loss: 0.1802 - precision: 0.8450 - recall: 0.7455 - auc: 0.9597 - Accuracy: 0.8066\n",
      "Epoch 71/100\n",
      "745/745 [==============================] - 5s 6ms/step - loss: 0.1799 - precision: 0.8427 - recall: 0.7466 - auc: 0.9600 - Accuracy: 0.8077\n",
      "Epoch 72/100\n",
      "745/745 [==============================] - 5s 7ms/step - loss: 0.1796 - precision: 0.8443 - recall: 0.7445 - auc: 0.9600 - Accuracy: 0.8056\n",
      "Epoch 73/100\n",
      "745/745 [==============================] - 5s 7ms/step - loss: 0.1797 - precision: 0.8453 - recall: 0.7448 - auc: 0.9600 - Accuracy: 0.8097\n",
      "Epoch 74/100\n",
      "745/745 [==============================] - 5s 7ms/step - loss: 0.1783 - precision: 0.8447 - recall: 0.7465 - auc: 0.9607 - Accuracy: 0.8104\n",
      "Epoch 75/100\n",
      "745/745 [==============================] - 5s 7ms/step - loss: 0.1792 - precision: 0.8461 - recall: 0.7467 - auc: 0.9602 - Accuracy: 0.8086\n",
      "Epoch 76/100\n",
      "745/745 [==============================] - 5s 7ms/step - loss: 0.1783 - precision: 0.8468 - recall: 0.7496 - auc: 0.9606 - Accuracy: 0.8097\n",
      "Epoch 77/100\n",
      "745/745 [==============================] - 5s 7ms/step - loss: 0.1773 - precision: 0.8453 - recall: 0.7505 - auc: 0.9611 - Accuracy: 0.8110\n",
      "Epoch 78/100\n",
      "745/745 [==============================] - 5s 7ms/step - loss: 0.1782 - precision: 0.8478 - recall: 0.7507 - auc: 0.9605 - Accuracy: 0.8126\n",
      "Epoch 79/100\n",
      "745/745 [==============================] - 5s 7ms/step - loss: 0.1777 - precision: 0.8471 - recall: 0.7496 - auc: 0.9609 - Accuracy: 0.8112\n",
      "Epoch 80/100\n",
      "745/745 [==============================] - 5s 7ms/step - loss: 0.1775 - precision: 0.8472 - recall: 0.7499 - auc: 0.9609 - Accuracy: 0.8137\n",
      "Epoch 81/100\n",
      "745/745 [==============================] - 5s 7ms/step - loss: 0.1774 - precision: 0.8483 - recall: 0.7468 - auc: 0.9612 - Accuracy: 0.8103\n",
      "Epoch 82/100\n",
      "745/745 [==============================] - 5s 7ms/step - loss: 0.1773 - precision: 0.8469 - recall: 0.7501 - auc: 0.9611 - Accuracy: 0.8097\n",
      "Epoch 83/100\n",
      "745/745 [==============================] - 5s 7ms/step - loss: 0.1765 - precision: 0.8472 - recall: 0.7514 - auc: 0.9614 - Accuracy: 0.8116\n",
      "Epoch 84/100\n",
      "745/745 [==============================] - 5s 7ms/step - loss: 0.1768 - precision: 0.8500 - recall: 0.7493 - auc: 0.9613 - Accuracy: 0.8133\n",
      "Epoch 85/100\n",
      "745/745 [==============================] - 5s 7ms/step - loss: 0.1762 - precision: 0.8499 - recall: 0.7504 - auc: 0.9614 - Accuracy: 0.8118\n",
      "Epoch 86/100\n",
      "745/745 [==============================] - 5s 7ms/step - loss: 0.1762 - precision: 0.8481 - recall: 0.7495 - auc: 0.9616 - Accuracy: 0.8113\n",
      "Epoch 87/100\n",
      "745/745 [==============================] - 5s 7ms/step - loss: 0.1755 - precision: 0.8503 - recall: 0.7534 - auc: 0.9616 - Accuracy: 0.8142\n",
      "Epoch 88/100\n",
      "745/745 [==============================] - 5s 7ms/step - loss: 0.1760 - precision: 0.8481 - recall: 0.7537 - auc: 0.9618 - Accuracy: 0.8123\n",
      "Epoch 89/100\n",
      "745/745 [==============================] - 5s 7ms/step - loss: 0.1761 - precision: 0.8497 - recall: 0.7524 - auc: 0.9616 - Accuracy: 0.8092\n",
      "Epoch 90/100\n",
      "745/745 [==============================] - 5s 7ms/step - loss: 0.1754 - precision: 0.8494 - recall: 0.7518 - auc: 0.9619 - Accuracy: 0.8133\n",
      "Epoch 91/100\n",
      "745/745 [==============================] - 5s 7ms/step - loss: 0.1752 - precision: 0.8498 - recall: 0.7542 - auc: 0.9621 - Accuracy: 0.8139\n",
      "Epoch 92/100\n",
      "745/745 [==============================] - 5s 6ms/step - loss: 0.1751 - precision: 0.8489 - recall: 0.7537 - auc: 0.9619 - Accuracy: 0.8114\n",
      "Epoch 93/100\n",
      "745/745 [==============================] - 5s 6ms/step - loss: 0.1753 - precision: 0.8500 - recall: 0.7538 - auc: 0.9618 - Accuracy: 0.8145\n",
      "Epoch 94/100\n",
      "745/745 [==============================] - 4s 6ms/step - loss: 0.1742 - precision: 0.8500 - recall: 0.7531 - auc: 0.9625 - Accuracy: 0.8131\n",
      "Epoch 95/100\n",
      "745/745 [==============================] - 5s 6ms/step - loss: 0.1748 - precision: 0.8500 - recall: 0.7542 - auc: 0.9622 - Accuracy: 0.8129\n",
      "Epoch 96/100\n",
      "745/745 [==============================] - 5s 6ms/step - loss: 0.1744 - precision: 0.8532 - recall: 0.7532 - auc: 0.9623 - Accuracy: 0.8135\n",
      "Epoch 97/100\n",
      "745/745 [==============================] - 5s 6ms/step - loss: 0.1743 - precision: 0.8511 - recall: 0.7536 - auc: 0.9624 - Accuracy: 0.8138\n",
      "Epoch 98/100\n",
      "745/745 [==============================] - 5s 6ms/step - loss: 0.1738 - precision: 0.8507 - recall: 0.7559 - auc: 0.9626 - Accuracy: 0.8141\n",
      "Epoch 99/100\n",
      "745/745 [==============================] - 5s 6ms/step - loss: 0.1734 - precision: 0.8527 - recall: 0.7546 - auc: 0.9627 - Accuracy: 0.8133\n",
      "Epoch 100/100\n",
      "745/745 [==============================] - 5s 6ms/step - loss: 0.1733 - precision: 0.8524 - recall: 0.7552 - auc: 0.9628 - Accuracy: 0.8150\n"
     ]
    }
   ],
   "source": [
    "history=model.fit(X_train,y,epochs=100)"
   ]
  },
  {
   "cell_type": "code",
   "execution_count": 22,
   "id": "0b3dece4",
   "metadata": {},
   "outputs": [
    {
     "name": "stdout",
     "output_type": "stream",
     "text": [
      "187/187 [==============================] - 45s 6ms/step - loss: 0.2009 - precision: 0.8168 - recall: 0.7240 - auc: 0.9505 - Accuracy: 0.7808\n"
     ]
    },
    {
     "data": {
      "text/plain": [
       "[0.20092898607254028,\n",
       " 0.8167701959609985,\n",
       " 0.7239677309989929,\n",
       " 0.9505454301834106,\n",
       " 0.7807621359825134]"
      ]
     },
     "execution_count": 22,
     "metadata": {},
     "output_type": "execute_result"
    }
   ],
   "source": [
    "model.evaluate(X_test,y_test)"
   ]
  },
  {
   "cell_type": "code",
   "execution_count": 23,
   "id": "e666dcf0",
   "metadata": {},
   "outputs": [
    {
     "data": {
      "text/plain": [
       "<matplotlib.legend.Legend at 0x283a095a820>"
      ]
     },
     "execution_count": 23,
     "metadata": {},
     "output_type": "execute_result"
    },
    {
     "data": {
      "image/png": "[encoded data removed]",
      "text/plain": [
       "<Figure size 640x480 with 1 Axes>"
      ]
     },
     "metadata": {},
     "output_type": "display_data"
    }
   ],
   "source": [
    "import matplotlib.pyplot as plt\n",
    "plt.plot(history.history['precision'],label='Precision')\n",
    "plt.plot(history.history['recall'],label='Recall')\n",
    "plt.plot(history.history['Accuracy'],label='Accuracy')\n",
    "plt.plot(history.history['loss'],label='Loss')\n",
    "plt.plot(history.history['auc'],label='auc')\n",
    "plt.legend()"
   ]
  },
  {
   "cell_type": "code",
   "execution_count": 24,
   "id": "a29f67d4",
   "metadata": {},
   "outputs": [
    {
     "name": "stdout",
     "output_type": "stream",
     "text": [
      "187/187 [==============================] - 1s 2ms/step\n"
     ]
    },
    {
     "data": {
      "text/plain": [
       "array([[9.9981529e-01, 3.5946615e-04, 3.3841850e-03, ..., 2.0426344e-03,\n",
       "        9.6202105e-01, 1.0156371e-01],\n",
       "       [3.4397191e-01, 6.3499993e-01, 1.7970155e-01, ..., 1.3112124e-02,\n",
       "        2.0722101e-02, 2.9896123e-03],\n",
       "       [9.7651742e-02, 6.7227773e-02, 2.5123611e-01, ..., 1.1156124e-04,\n",
       "        7.6237816e-04, 6.5723289e-04],\n",
       "       ...,\n",
       "       [5.3072162e-03, 1.6288031e-03, 3.7348428e-01, ..., 2.8706120e-06,\n",
       "        1.9478235e-05, 7.5916993e-05],\n",
       "       [8.0959741e-03, 1.4009591e-03, 3.4473542e-02, ..., 6.7763081e-05,\n",
       "        5.8863502e-06, 8.8061206e-06],\n",
       "       [9.8478377e-01, 8.4318817e-03, 9.5940847e-03, ..., 5.7932991e-03,\n",
       "        1.2383109e-02, 4.5323387e-02]], dtype=float32)"
      ]
     },
     "execution_count": 24,
     "metadata": {},
     "output_type": "execute_result"
    }
   ],
   "source": [
    "y_pred=model.predict(X_test)\n",
    "y_pred"
   ]
  },
  {
   "cell_type": "code",
   "execution_count": 25,
   "id": "5ceddb76",
   "metadata": {},
   "outputs": [],
   "source": [
    "normalized = []\n",
    "for i in y_pred:\n",
    "    l = []\n",
    "    for j in i:\n",
    "        if j>=0.50:\n",
    "            l.append(1)\n",
    "        else:\n",
    "            l.append(0)\n",
    "    normalized.append(l)"
   ]
  },
  {
   "cell_type": "code",
   "execution_count": 26,
   "id": "3b7bfad1",
   "metadata": {},
   "outputs": [
    {
     "name": "stdout",
     "output_type": "stream",
     "text": [
      "                        precision    recall  f1-score   support\n",
      "\n",
      "    Software_Developer       0.96      0.91      0.93      2973\n",
      "Database_Administrator       0.84      0.69      0.76       621\n",
      " Systems_Administrator       0.70      0.65      0.67      1215\n",
      "       Project_manager       0.75      0.54      0.63       911\n",
      "         Web_Developer       0.67      0.59      0.62      1260\n",
      " Network_Administrator       0.75      0.61      0.67       937\n",
      "      Security_Analyst       0.70      0.61      0.65       605\n",
      "      Python_Developer       0.87      0.76      0.81       539\n",
      "        Java_Developer       0.85      0.72      0.78       680\n",
      "   Front_End_Developer       0.83      0.79      0.81       794\n",
      "\n",
      "             micro avg       0.82      0.72      0.77     10535\n",
      "             macro avg       0.79      0.69      0.73     10535\n",
      "          weighted avg       0.81      0.72      0.76     10535\n",
      "           samples avg       0.78      0.73      0.73     10535\n",
      "\n"
     ]
    },
    {
     "name": "stderr",
     "output_type": "stream",
     "text": [
      "D:\\Users\\Pushkar\\anaconda3\\envs\\major\\lib\\site-packages\\sklearn\\metrics\\_classification.py:1344: UndefinedMetricWarning: Precision and F-score are ill-defined and being set to 0.0 in samples with no predicted labels. Use `zero_division` parameter to control this behavior.\n",
      "  _warn_prf(average, modifier, msg_start, len(result))\n",
      "D:\\Users\\Pushkar\\anaconda3\\envs\\major\\lib\\site-packages\\sklearn\\metrics\\_classification.py:1344: UndefinedMetricWarning: Recall and F-score are ill-defined and being set to 0.0 in samples with no true labels. Use `zero_division` parameter to control this behavior.\n",
      "  _warn_prf(average, modifier, msg_start, len(result))\n"
     ]
    }
   ],
   "source": [
    "from sklearn.metrics import confusion_matrix\n",
    "from sklearn import metrics\n",
    "print(metrics.classification_report(y_test, normalized,target_names= classes))"
   ]
  },
  {
   "cell_type": "code",
   "execution_count": 27,
   "id": "1782f55a",
   "metadata": {},
   "outputs": [],
   "source": [
    "model.save('Resume_Classifier_DNN.h5')"
   ]
  }
 ],
 "metadata": {
  "kernelspec": {
   "display_name": "Python 3.9 (tensorflow)",
   "language": "python",
   "name": "major"
  },
  "language_info": {
   "codemirror_mode": {
    "name": "ipython",
    "version": 3
   },
   "file_extension": ".py",
   "mimetype": "text/x-python",
   "name": "python",
   "nbconvert_exporter": "python",
   "pygments_lexer": "ipython3",
   "version": "3.9.16"
  }
 },
 "nbformat": 4,
 "nbformat_minor": 5
}
